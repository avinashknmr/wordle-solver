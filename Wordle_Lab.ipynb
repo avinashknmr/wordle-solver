{
 "cells": [
  {
   "cell_type": "code",
   "execution_count": 1,
   "metadata": {},
   "outputs": [],
   "source": [
    "%load_ext autoreload\n",
    "%autoreload 2"
   ]
  },
  {
   "cell_type": "code",
   "execution_count": 2,
   "metadata": {},
   "outputs": [],
   "source": [
    "from wordle import Wordle\n",
    "from solver import WordleSolver\n",
    "from utils import wordle_words\n",
    "from tqdm import tqdm\n",
    "from experiment import WordleExperiment"
   ]
  },
  {
   "cell_type": "code",
   "execution_count": 5,
   "metadata": {},
   "outputs": [
    {
     "name": "stdout",
     "output_type": "stream",
     "text": [
      "alert\n",
      "noisy\n",
      "youth\n"
     ]
    },
    {
     "data": {
      "text/plain": [
       "(True, 3)"
      ]
     },
     "execution_count": 5,
     "metadata": {},
     "output_type": "execute_result"
    }
   ],
   "source": [
    "wordle = Wordle()\n",
    "wordle.set_word('youth')\n",
    "solver = WordleSolver()\n",
    "solver.solve(wordle, True)"
   ]
  },
  {
   "cell_type": "code",
   "execution_count": 6,
   "metadata": {},
   "outputs": [
    {
     "name": "stderr",
     "output_type": "stream",
     "text": [
      "100%|██████████| 5/5 [00:00<00:00,  9.25it/s]\n"
     ]
    },
    {
     "data": {
      "text/plain": [
       "1.0"
      ]
     },
     "execution_count": 6,
     "metadata": {},
     "output_type": "execute_result"
    }
   ],
   "source": [
    "results = []\n",
    "invalid = []\n",
    "for word in tqdm(wordle_words()):\n",
    "    try:\n",
    "        experiment = WordleExperiment(word)\n",
    "        results.append(experiment.solve()[0])\n",
    "    except:\n",
    "        invalid.append(word)\n",
    "sum(results)/len(results)"
   ]
  },
  {
   "cell_type": "code",
   "execution_count": null,
   "metadata": {},
   "outputs": [],
   "source": []
  }
 ],
 "metadata": {
  "kernelspec": {
   "display_name": "Python 3.9.10 ('.kaggle-x1F4j2mL')",
   "language": "python",
   "name": "python3"
  },
  "language_info": {
   "codemirror_mode": {
    "name": "ipython",
    "version": 3
   },
   "file_extension": ".py",
   "mimetype": "text/x-python",
   "name": "python",
   "nbconvert_exporter": "python",
   "pygments_lexer": "ipython3",
   "version": "3.9.10"
  },
  "orig_nbformat": 4,
  "vscode": {
   "interpreter": {
    "hash": "f79ed692fc8f8a496f2084853a93793362bd1fe483581be990987814d5544da9"
   }
  }
 },
 "nbformat": 4,
 "nbformat_minor": 2
}
